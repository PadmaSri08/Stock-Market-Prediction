{
 "cells": [
  {
   "cell_type": "code",
   "execution_count": 1,
   "id": "6e88dcc5",
   "metadata": {},
   "outputs": [
    {
     "name": "stderr",
     "output_type": "stream",
     "text": [
      "C:\\Users\\padma\\anaconda3\\lib\\site-packages\\scipy\\__init__.py:146: UserWarning: A NumPy version >=1.16.5 and <1.23.0 is required for this version of SciPy (detected version 1.24.3\n",
      "  warnings.warn(f\"A NumPy version >={np_minversion} and <{np_maxversion}\"\n"
     ]
    }
   ],
   "source": [
    "import numpy as np\n",
    "import pandas as pd\n",
    "from sklearn.preprocessing import MinMaxScaler\n",
    "from tensorflow.keras.models import Sequential\n",
    "from tensorflow.keras.layers import LSTM, Dense"
   ]
  },
  {
   "cell_type": "code",
   "execution_count": 2,
   "id": "d6ffe90c",
   "metadata": {},
   "outputs": [
    {
     "data": {
      "text/html": [
       "<div>\n",
       "<style scoped>\n",
       "    .dataframe tbody tr th:only-of-type {\n",
       "        vertical-align: middle;\n",
       "    }\n",
       "\n",
       "    .dataframe tbody tr th {\n",
       "        vertical-align: top;\n",
       "    }\n",
       "\n",
       "    .dataframe thead th {\n",
       "        text-align: right;\n",
       "    }\n",
       "</style>\n",
       "<table border=\"1\" class=\"dataframe\">\n",
       "  <thead>\n",
       "    <tr style=\"text-align: right;\">\n",
       "      <th></th>\n",
       "      <th>Date</th>\n",
       "      <th>Symbol</th>\n",
       "      <th>Adj Close</th>\n",
       "      <th>Close</th>\n",
       "      <th>High</th>\n",
       "      <th>Low</th>\n",
       "      <th>Open</th>\n",
       "      <th>Volume</th>\n",
       "    </tr>\n",
       "  </thead>\n",
       "  <tbody>\n",
       "    <tr>\n",
       "      <th>0</th>\n",
       "      <td>2022-10-03</td>\n",
       "      <td>SMAB11</td>\n",
       "      <td>8.360000</td>\n",
       "      <td>8.360000</td>\n",
       "      <td>8.370000</td>\n",
       "      <td>7.970000</td>\n",
       "      <td>8.000000</td>\n",
       "      <td>579.0</td>\n",
       "    </tr>\n",
       "    <tr>\n",
       "      <th>1</th>\n",
       "      <td>2010-01-04</td>\n",
       "      <td>MMXM3</td>\n",
       "      <td>1599.174927</td>\n",
       "      <td>1599.174927</td>\n",
       "      <td>1599.174927</td>\n",
       "      <td>1555.137817</td>\n",
       "      <td>1556.395996</td>\n",
       "      <td>20984.0</td>\n",
       "    </tr>\n",
       "    <tr>\n",
       "      <th>2</th>\n",
       "      <td>2010-01-05</td>\n",
       "      <td>MMXM3</td>\n",
       "      <td>1609.240479</td>\n",
       "      <td>1609.240479</td>\n",
       "      <td>1616.789795</td>\n",
       "      <td>1567.719849</td>\n",
       "      <td>1600.433105</td>\n",
       "      <td>22586.0</td>\n",
       "    </tr>\n",
       "    <tr>\n",
       "      <th>3</th>\n",
       "      <td>2010-01-06</td>\n",
       "      <td>MMXM3</td>\n",
       "      <td>1680.958008</td>\n",
       "      <td>1680.958008</td>\n",
       "      <td>1685.990845</td>\n",
       "      <td>1599.174927</td>\n",
       "      <td>1616.789795</td>\n",
       "      <td>37998.0</td>\n",
       "    </tr>\n",
       "    <tr>\n",
       "      <th>4</th>\n",
       "      <td>2010-01-07</td>\n",
       "      <td>MMXM3</td>\n",
       "      <td>1698.572876</td>\n",
       "      <td>1698.572876</td>\n",
       "      <td>1704.863892</td>\n",
       "      <td>1641.953735</td>\n",
       "      <td>1660.826782</td>\n",
       "      <td>33651.0</td>\n",
       "    </tr>\n",
       "    <tr>\n",
       "      <th>...</th>\n",
       "      <td>...</td>\n",
       "      <td>...</td>\n",
       "      <td>...</td>\n",
       "      <td>...</td>\n",
       "      <td>...</td>\n",
       "      <td>...</td>\n",
       "      <td>...</td>\n",
       "      <td>...</td>\n",
       "    </tr>\n",
       "    <tr>\n",
       "      <th>894771</th>\n",
       "      <td>2022-12-16 00:00:00</td>\n",
       "      <td>G3</td>\n",
       "      <td>5.550000</td>\n",
       "      <td>5.550000</td>\n",
       "      <td>5.700000</td>\n",
       "      <td>5.490000</td>\n",
       "      <td>5.490000</td>\n",
       "      <td>1203700.0</td>\n",
       "    </tr>\n",
       "    <tr>\n",
       "      <th>894772</th>\n",
       "      <td>2022-12-16 00:00:00</td>\n",
       "      <td>I4</td>\n",
       "      <td>8.030000</td>\n",
       "      <td>8.030000</td>\n",
       "      <td>8.090000</td>\n",
       "      <td>8.000000</td>\n",
       "      <td>8.020000</td>\n",
       "      <td>4949900.0</td>\n",
       "    </tr>\n",
       "    <tr>\n",
       "      <th>894773</th>\n",
       "      <td>2022-12-16 00:00:00</td>\n",
       "      <td>L3</td>\n",
       "      <td>6.860000</td>\n",
       "      <td>6.860000</td>\n",
       "      <td>7.220000</td>\n",
       "      <td>6.820000</td>\n",
       "      <td>7.060000</td>\n",
       "      <td>4195100.0</td>\n",
       "    </tr>\n",
       "    <tr>\n",
       "      <th>894774</th>\n",
       "      <td>2022-12-16 00:00:00</td>\n",
       "      <td>P3</td>\n",
       "      <td>21.230000</td>\n",
       "      <td>21.230000</td>\n",
       "      <td>21.290001</td>\n",
       "      <td>20.860001</td>\n",
       "      <td>20.860001</td>\n",
       "      <td>1171300.0</td>\n",
       "    </tr>\n",
       "    <tr>\n",
       "      <th>894775</th>\n",
       "      <td>2022-12-16 00:00:00</td>\n",
       "      <td>T3</td>\n",
       "      <td>2.500000</td>\n",
       "      <td>2.500000</td>\n",
       "      <td>2.570000</td>\n",
       "      <td>2.490000</td>\n",
       "      <td>2.570000</td>\n",
       "      <td>80100.0</td>\n",
       "    </tr>\n",
       "  </tbody>\n",
       "</table>\n",
       "<p>894776 rows × 8 columns</p>\n",
       "</div>"
      ],
      "text/plain": [
       "                       Date  Symbol    Adj Close        Close         High  \\\n",
       "0                2022-10-03  SMAB11     8.360000     8.360000     8.370000   \n",
       "1                2010-01-04   MMXM3  1599.174927  1599.174927  1599.174927   \n",
       "2                2010-01-05   MMXM3  1609.240479  1609.240479  1616.789795   \n",
       "3                2010-01-06   MMXM3  1680.958008  1680.958008  1685.990845   \n",
       "4                2010-01-07   MMXM3  1698.572876  1698.572876  1704.863892   \n",
       "...                     ...     ...          ...          ...          ...   \n",
       "894771  2022-12-16 00:00:00      G3     5.550000     5.550000     5.700000   \n",
       "894772  2022-12-16 00:00:00      I4     8.030000     8.030000     8.090000   \n",
       "894773  2022-12-16 00:00:00      L3     6.860000     6.860000     7.220000   \n",
       "894774  2022-12-16 00:00:00      P3    21.230000    21.230000    21.290001   \n",
       "894775  2022-12-16 00:00:00      T3     2.500000     2.500000     2.570000   \n",
       "\n",
       "                Low         Open     Volume  \n",
       "0          7.970000     8.000000      579.0  \n",
       "1       1555.137817  1556.395996    20984.0  \n",
       "2       1567.719849  1600.433105    22586.0  \n",
       "3       1599.174927  1616.789795    37998.0  \n",
       "4       1641.953735  1660.826782    33651.0  \n",
       "...             ...          ...        ...  \n",
       "894771     5.490000     5.490000  1203700.0  \n",
       "894772     8.000000     8.020000  4949900.0  \n",
       "894773     6.820000     7.060000  4195100.0  \n",
       "894774    20.860001    20.860001  1171300.0  \n",
       "894775     2.490000     2.570000    80100.0  \n",
       "\n",
       "[894776 rows x 8 columns]"
      ]
     },
     "execution_count": 2,
     "metadata": {},
     "output_type": "execute_result"
    }
   ],
   "source": [
    "data = pd.read_csv(\"Downloads/bovespa_stocks.csv\") \n",
    "data"
   ]
  },
  {
   "cell_type": "code",
   "execution_count": 3,
   "id": "1d8f7e03",
   "metadata": {},
   "outputs": [],
   "source": [
    "data = data.sort_values('Date')"
   ]
  },
  {
   "cell_type": "code",
   "execution_count": 4,
   "id": "22862404",
   "metadata": {},
   "outputs": [],
   "source": [
    "target = data['Close'].values.reshape(-1, 1)"
   ]
  },
  {
   "cell_type": "code",
   "execution_count": 5,
   "id": "d86843da",
   "metadata": {},
   "outputs": [],
   "source": [
    "scaler = MinMaxScaler(feature_range=(0, 1))\n",
    "target_scaled = scaler.fit_transform(target)"
   ]
  },
  {
   "cell_type": "code",
   "execution_count": 6,
   "id": "fdd8ffa6",
   "metadata": {},
   "outputs": [],
   "source": [
    "def create_sequences(data, seq_length):\n",
    "    X, y = [], []\n",
    "    for i in range(len(data) - seq_length):\n",
    "        X.append(data[i:(i + seq_length), 0])\n",
    "        y.append(data[i + seq_length, 0])\n",
    "    return np.array(X), np.array(y)\n",
    "\n",
    "seq_length = 10 \n",
    "X, y = create_sequences(target_scaled, seq_length)"
   ]
  },
  {
   "cell_type": "code",
   "execution_count": 7,
   "id": "f2fd1c0b",
   "metadata": {},
   "outputs": [],
   "source": [
    "train_size = int(len(X) * 0.8)\n",
    "test_size = len(X) - train_size\n",
    "X_train, X_test = X[:train_size], X[train_size:]\n",
    "y_train, y_test = y[:train_size], y[train_size:]"
   ]
  },
  {
   "cell_type": "code",
   "execution_count": 8,
   "id": "c2307698",
   "metadata": {},
   "outputs": [
    {
     "name": "stdout",
     "output_type": "stream",
     "text": [
      "Epoch 1/10\n",
      "22370/22370 [==============================] - 206s 9ms/step - loss: 1.8913e-04\n",
      "Epoch 2/10\n",
      "22370/22370 [==============================] - 199s 9ms/step - loss: 1.8902e-04\n",
      "Epoch 3/10\n",
      "22370/22370 [==============================] - 198s 9ms/step - loss: 1.8906e-04\n",
      "Epoch 4/10\n",
      "22370/22370 [==============================] - 198s 9ms/step - loss: 1.8901e-04\n",
      "Epoch 5/10\n",
      "22370/22370 [==============================] - 198s 9ms/step - loss: 1.8909e-04\n",
      "Epoch 6/10\n",
      "22370/22370 [==============================] - 206s 9ms/step - loss: 1.8907e-04\n",
      "Epoch 7/10\n",
      "22370/22370 [==============================] - 201s 9ms/step - loss: 1.8909e-04\n",
      "Epoch 8/10\n",
      "22370/22370 [==============================] - 200s 9ms/step - loss: 1.8904e-04\n",
      "Epoch 9/10\n",
      "22370/22370 [==============================] - 203s 9ms/step - loss: 1.8903e-04\n",
      "Epoch 10/10\n",
      "22370/22370 [==============================] - 200s 9ms/step - loss: 1.8903e-04\n"
     ]
    },
    {
     "data": {
      "text/plain": [
       "<keras.src.callbacks.History at 0x22a8f20f970>"
      ]
     },
     "execution_count": 8,
     "metadata": {},
     "output_type": "execute_result"
    }
   ],
   "source": [
    "model = Sequential()\n",
    "model.add(LSTM(50, activation='relu', input_shape=(seq_length, 1)))\n",
    "model.add(Dense(1))\n",
    "model.compile(optimizer='adam', loss='mean_squared_error')\n",
    "model.fit(X_train, y_train, epochs=10, batch_size=32)"
   ]
  },
  {
   "cell_type": "code",
   "execution_count": 9,
   "id": "0e1bd45c",
   "metadata": {},
   "outputs": [
    {
     "name": "stdout",
     "output_type": "stream",
     "text": [
      "22370/22370 [==============================] - 100s 4ms/step\n",
      "5593/5593 [==============================] - 25s 5ms/step\n"
     ]
    }
   ],
   "source": [
    "train_predictions = model.predict(X_train)\n",
    "test_predictions = model.predict(X_test)"
   ]
  },
  {
   "cell_type": "code",
   "execution_count": 10,
   "id": "6db758c3",
   "metadata": {},
   "outputs": [
    {
     "data": {
      "text/plain": [
       "array([[0.00152919],\n",
       "       [0.00152919],\n",
       "       [0.00152919],\n",
       "       ...,\n",
       "       [0.00152919],\n",
       "       [0.00152919],\n",
       "       [0.00152919]], dtype=float32)"
      ]
     },
     "execution_count": 10,
     "metadata": {},
     "output_type": "execute_result"
    }
   ],
   "source": [
    "train_predictions"
   ]
  },
  {
   "cell_type": "code",
   "execution_count": 11,
   "id": "c3c60524",
   "metadata": {},
   "outputs": [
    {
     "data": {
      "text/plain": [
       "array([[0.00152919],\n",
       "       [0.00152919],\n",
       "       [0.00152919],\n",
       "       ...,\n",
       "       [0.00152919],\n",
       "       [0.00152919],\n",
       "       [0.00152919]], dtype=float32)"
      ]
     },
     "execution_count": 11,
     "metadata": {},
     "output_type": "execute_result"
    }
   ],
   "source": [
    "test_predictions"
   ]
  },
  {
   "cell_type": "code",
   "execution_count": 12,
   "id": "1060e437",
   "metadata": {},
   "outputs": [],
   "source": [
    "train_predictions = scaler.inverse_transform(train_predictions)\n",
    "y_train = scaler.inverse_transform([y_train])\n",
    "test_predictions = scaler.inverse_transform(test_predictions)\n",
    "y_test = scaler.inverse_transform([y_test])"
   ]
  },
  {
   "cell_type": "code",
   "execution_count": 17,
   "id": "cb7a6dc9",
   "metadata": {},
   "outputs": [
    {
     "data": {
      "text/plain": [
       "[<matplotlib.lines.Line2D at 0x22ab8c9fca0>]"
      ]
     },
     "execution_count": 17,
     "metadata": {},
     "output_type": "execute_result"
    },
    {
     "data": {
      "image/png": "[encoded data removed]",
      "text/plain": [
       "<Figure size 432x288 with 1 Axes>"
      ]
     },
     "metadata": {
      "needs_background": "light"
     },
     "output_type": "display_data"
    }
   ],
   "source": [
    "import matplotlib.pyplot as plt\n",
    "plt.plot(train_predictions, color = 'black')\n",
    "plt.plot(test_predictions, color = 'green')"
   ]
  },
  {
   "cell_type": "code",
   "execution_count": null,
   "id": "077be542",
   "metadata": {},
   "outputs": [],
   "source": []
  }
 ],
 "metadata": {
  "kernelspec": {
   "display_name": "Python 3 (ipykernel)",
   "language": "python",
   "name": "python3"
  },
  "language_info": {
   "codemirror_mode": {
    "name": "ipython",
    "version": 3
   },
   "file_extension": ".py",
   "mimetype": "text/x-python",
   "name": "python",
   "nbconvert_exporter": "python",
   "pygments_lexer": "ipython3",
   "version": "3.9.7"
  }
 },
 "nbformat": 4,
 "nbformat_minor": 5
}
